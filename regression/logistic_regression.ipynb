{
 "cells": [
  {
   "cell_type": "code",
   "execution_count": 2,
   "metadata": {},
   "outputs": [],
   "source": [
    "import matplotlib.pyplot as plt\n",
    "import numpy as np\n",
    "import math\n",
    "from sklearn.linear_model import LogisticRegression\n",
    "import pandas as pd"
   ]
  },
  {
   "cell_type": "markdown",
   "metadata": {},
   "source": [
    "## 1. Logistic regression\n",
    "\n",
    "**Question** What is logistic regression? Does it really solve the regression problems?"
   ]
  },
  {
   "cell_type": "markdown",
   "metadata": {},
   "source": [
    "Logistic regression is based on logit function which is a defined as log(odds), where odds is the share of the probability of \"one\" (p) and the probability of \"zero\" (1-p):\n",
    "\n",
    "$$odds(p) = \\frac{p}{1-p}$$ <br/>\n",
    "$$logit(p) = ln(odds(p)) = ln(\\frac{p}{1-p})$$\n",
    "\n",
    "**Example** We take at random one card from full deck of cards. We define success as taking a heart card. What are the values of probability of success, ODDS and logit in this example? <br/>\n",
    "\n",
    "**Task** Generate in python two plots visualising the relation between: \n",
    "* probability and odds\n",
    "* probability and logit\n",
    "\n",
    "What is the value range for thise 3 functions (probability, odds and logit)?"
   ]
  },
  {
   "cell_type": "code",
   "execution_count": 3,
   "metadata": {},
   "outputs": [
    {
     "data": {
      "image/png": "[encoded data removed]",
      "text/plain": [
       "<Figure size 432x288 with 1 Axes>"
      ]
     },
     "metadata": {
      "needs_background": "light"
     },
     "output_type": "display_data"
    },
    {
     "data": {
      "image/png": "[encoded data removed]",
      "text/plain": [
       "<Figure size 432x288 with 1 Axes>"
      ]
     },
     "metadata": {
      "needs_background": "light"
     },
     "output_type": "display_data"
    }
   ],
   "source": [
    "from math import log as ln\n",
    "\n",
    "def odds(p):\n",
    "    return p / (1 - p)\n",
    "\n",
    "def logit(p):\n",
    "    return np.log(odds(p))\n",
    "\n",
    "x = np.linspace(0.01, 0.99, 100)\n",
    "\n",
    "plt.plot(x, odds(x))\n",
    "plt.show()\n",
    "\n",
    "plt.plot(x, logit(x))\n",
    "plt.show()"
   ]
  },
  {
   "cell_type": "markdown",
   "metadata": {},
   "source": [
    "## 2. Simple logistic regression\n",
    "Let's start with simple logistic regression - with only one independent variable. We will work on the example from english Wikipedia (https://en.wikipedia.org/wiki/Logistic_regression). We want to build a logistic regression model for estimating probability od passing an exam based on the time spent on studying:\n",
    "\n",
    "\n",
    "|Hours|\t0.50|0.75|1.00|1.25|1.50|1.75|1.75|2.00|2.25|2.50|2.75|3.00|3.25|3.50|4.00|4.25|4.50|4.75|5.00|5.50|\n",
    "|-----|-----|----|----|----|----|----|----|----|----|----|----|----|----|----|----|----|----|----|----|----|\n",
    "|Pass |0    |0   |0   |0   |0   |0   |1   |0   |1   |0   |1   |0   |1   |0   |1   |1   |1   |1   |1   |1   |\n",
    "\n",
    "1 - student passed, 0 - student failed"
   ]
  },
  {
   "cell_type": "code",
   "execution_count": 4,
   "metadata": {},
   "outputs": [],
   "source": [
    "hours = [0.5, 0.75, 1, 1.25, 1.5, 1.75, 1.75, 2, 2.25, 2.5, 2.75, 3, 3.25, 3.5, 4, 4.25, 4.5, 4.75, 5, 5.5]\n",
    "hours = np.array(hours).reshape(-1, 1)\n",
    "passed = [0, 0, 0, 0, 0, 0, 1, 0, 1, 0, 1, 0, 1, 0, 1, 1, 1, 1, 1, 1]"
   ]
  },
  {
   "cell_type": "markdown",
   "metadata": {},
   "source": [
    "Let's use the scatter plot to visualize our data. Can you intuitively find a threshold - after how long studying students usually pass the test?"
   ]
  },
  {
   "cell_type": "code",
   "execution_count": 7,
   "metadata": {},
   "outputs": [
    {
     "data": {
      "image/png": "[encoded data removed]",
      "text/plain": [
       "<Figure size 432x288 with 1 Axes>"
      ]
     },
     "metadata": {
      "needs_background": "light"
     },
     "output_type": "display_data"
    }
   ],
   "source": [
    "fig = plt.figure()\n",
    "ax = fig.add_subplot()\n",
    "ax.scatter(hours, passed)\n",
    "plt.show()"
   ]
  },
  {
   "cell_type": "markdown",
   "metadata": {},
   "source": [
    "We define the logit function as the linear combination of independent variables. In simple regression case we have only one variable x:\n",
    "\n",
    "$$logit(p) = ln(\\frac{p}{1-p}) = \\beta_0 + \\beta_1\\cdot x,$$\n",
    "so the estimated odds value is equal to:\n",
    "$$\\frac{p}{1-p} = e^{\\beta_0 + \\beta_1\\cdot x}$$.\n",
    "\n",
    "The estimation of $\\beta$ coefficient is being done with the maximum likelihood estimation method (https://online.stat.psu.edu/stat415/lesson/1/1.2).\n",
    "\n",
    "**Task** Use Logistic Regression from scikit learn to obtain the regression coefficients in our problem."
   ]
  },
  {
   "cell_type": "code",
   "execution_count": 8,
   "metadata": {},
   "outputs": [
    {
     "name": "stdout",
     "output_type": "stream",
     "text": [
      "[-3.13952411]\n",
      "[[1.14860386]]\n"
     ]
    },
    {
     "data": {
      "image/png": "[encoded data removed]",
      "text/plain": [
       "<Figure size 432x288 with 1 Axes>"
      ]
     },
     "metadata": {
      "needs_background": "light"
     },
     "output_type": "display_data"
    }
   ],
   "source": [
    "regression = LogisticRegression(random_state=0)\n",
    "regression.fit(hours, passed)\n",
    "\n",
    "print(regression.intercept_)\n",
    "print(regression.coef_)\n",
    "\n",
    "fig = plt.figure()\n",
    "ax = fig.add_subplot()\n",
    "ax.scatter(hours, regression.predict(hours))\n",
    "plt.show()"
   ]
  },
  {
   "cell_type": "markdown",
   "metadata": {},
   "source": [
    "**Question** Having the coefficients how can we determine what is the probability that student who studied for 4.25h will pass the test?\n",
    "\n",
    "**Task** Write the body of function which calculates this probability having the $\\beta_0$ and $\\beta_1$ coefficients and the study time (x). Using this function and coefficients obtained with previous task find the answer for previous question (the probability of passing the test after 4.25 hours of studying). <br/>\n",
    "_Tip: np.exp() function can be useful_"
   ]
  },
  {
   "cell_type": "code",
   "execution_count": 9,
   "metadata": {},
   "outputs": [
    {
     "data": {
      "text/plain": [
       "0.8509462919952759"
      ]
     },
     "execution_count": 9,
     "metadata": {},
     "output_type": "execute_result"
    }
   ],
   "source": [
    "def calculate_probability(beta_0, beta_1, x):\n",
    "    #TODO\n",
    "    return 1 / (1 + np.exp(-beta_0 - beta_1 * x))\n",
    "\n",
    "#TODO fill with regression coefficients from previours task\n",
    "calculate_probability(regression.intercept_[0], regression.coef_[0][0], 4.25)"
   ]
  },
  {
   "cell_type": "markdown",
   "metadata": {},
   "source": [
    "**Task** Let's visualize the probability function - p(studying hours), to your previous scatter add a line showing the relation between studying time and the probability of passing. Can you see something interesting about this function? Do you know how this type of function is called?"
   ]
  },
  {
   "cell_type": "code",
   "execution_count": 10,
   "metadata": {},
   "outputs": [
    {
     "data": {
      "image/png": "[encoded data removed]",
      "text/plain": [
       "<Figure size 432x288 with 1 Axes>"
      ]
     },
     "metadata": {
      "needs_background": "light"
     },
     "output_type": "display_data"
    }
   ],
   "source": [
    "fig = plt.figure()\n",
    "ax = fig.add_subplot()\n",
    "ax.scatter(hours, regression.predict(hours))\n",
    "plt.plot(hours, calculate_probability(regression.intercept_[0], regression.coef_[0][0], hours))\n",
    "plt.show()"
   ]
  },
  {
   "cell_type": "markdown",
   "metadata": {},
   "source": [
    "Let's check if the probability which we calculated is the same as this returned with out fit logistic regression model from scikit learn. Use predict_proba function to find the probability of studying 4.25h. <br/>\n",
    "_Tip: predict_proba requires 2D array or list of lists as input, so [[4.25]] should be passed_"
   ]
  },
  {
   "cell_type": "code",
   "execution_count": 11,
   "metadata": {},
   "outputs": [
    {
     "data": {
      "text/plain": [
       "0.8509462919952759"
      ]
     },
     "execution_count": 11,
     "metadata": {},
     "output_type": "execute_result"
    }
   ],
   "source": [
    "regression.predict_proba([[4.25]])[0][1]"
   ]
  },
  {
   "cell_type": "markdown",
   "metadata": {},
   "source": [
    "We may also not want to obtain the probabilities, but just the more probable class (whether student will pass or not). To obtain this class use the predict function on the model:"
   ]
  },
  {
   "cell_type": "code",
   "execution_count": 12,
   "metadata": {},
   "outputs": [
    {
     "data": {
      "text/plain": [
       "1"
      ]
     },
     "execution_count": 12,
     "metadata": {},
     "output_type": "execute_result"
    }
   ],
   "source": [
    "regression.predict([[4.25]])[0]"
   ]
  },
  {
   "cell_type": "markdown",
   "metadata": {},
   "source": [
    "## 3. Multiple logistic regression"
   ]
  },
  {
   "cell_type": "markdown",
   "metadata": {},
   "source": [
    "More usual real-world case is to use the multiple logistic regression, when the value of some binary class depends on more than one factor. In this part we will work on the dataset containing data about whether given person is diabetic or not.\n",
    "\n",
    "Let's start with reading the data from \"diabetes_scaled.csv\" file. The data have already been scaled."
   ]
  },
  {
   "cell_type": "code",
   "execution_count": 13,
   "metadata": {},
   "outputs": [
    {
     "data": {
      "text/html": [
       "<div>\n",
       "<style scoped>\n",
       "    .dataframe tbody tr th:only-of-type {\n",
       "        vertical-align: middle;\n",
       "    }\n",
       "\n",
       "    .dataframe tbody tr th {\n",
       "        vertical-align: top;\n",
       "    }\n",
       "\n",
       "    .dataframe thead th {\n",
       "        text-align: right;\n",
       "    }\n",
       "</style>\n",
       "<table border=\"1\" class=\"dataframe\">\n",
       "  <thead>\n",
       "    <tr style=\"text-align: right;\">\n",
       "      <th></th>\n",
       "      <th>Pregnancies</th>\n",
       "      <th>Glucose</th>\n",
       "      <th>BloodPressure</th>\n",
       "      <th>SkinThickness</th>\n",
       "      <th>Insulin</th>\n",
       "      <th>BMI</th>\n",
       "      <th>DiabetesPedigreeFunction</th>\n",
       "      <th>Age</th>\n",
       "      <th>Class</th>\n",
       "    </tr>\n",
       "  </thead>\n",
       "  <tbody>\n",
       "    <tr>\n",
       "      <th>0</th>\n",
       "      <td>0.639947</td>\n",
       "      <td>0.848324</td>\n",
       "      <td>0.149641</td>\n",
       "      <td>0.907270</td>\n",
       "      <td>-0.692891</td>\n",
       "      <td>0.204013</td>\n",
       "      <td>0.468492</td>\n",
       "      <td>1.425995</td>\n",
       "      <td>1</td>\n",
       "    </tr>\n",
       "    <tr>\n",
       "      <th>1</th>\n",
       "      <td>-0.844885</td>\n",
       "      <td>-1.123396</td>\n",
       "      <td>-0.160546</td>\n",
       "      <td>0.530902</td>\n",
       "      <td>-0.692891</td>\n",
       "      <td>-0.684422</td>\n",
       "      <td>-0.365061</td>\n",
       "      <td>-0.190672</td>\n",
       "      <td>0</td>\n",
       "    </tr>\n",
       "    <tr>\n",
       "      <th>2</th>\n",
       "      <td>1.233880</td>\n",
       "      <td>1.943724</td>\n",
       "      <td>-0.263941</td>\n",
       "      <td>-1.288212</td>\n",
       "      <td>-0.692891</td>\n",
       "      <td>-1.103255</td>\n",
       "      <td>0.604397</td>\n",
       "      <td>-0.105584</td>\n",
       "      <td>1</td>\n",
       "    </tr>\n",
       "    <tr>\n",
       "      <th>3</th>\n",
       "      <td>-0.844885</td>\n",
       "      <td>-0.998208</td>\n",
       "      <td>-0.160546</td>\n",
       "      <td>0.154533</td>\n",
       "      <td>0.123302</td>\n",
       "      <td>-0.494043</td>\n",
       "      <td>-0.920763</td>\n",
       "      <td>-1.041549</td>\n",
       "      <td>0</td>\n",
       "    </tr>\n",
       "    <tr>\n",
       "      <th>4</th>\n",
       "      <td>-1.141852</td>\n",
       "      <td>0.504055</td>\n",
       "      <td>-1.504687</td>\n",
       "      <td>0.907270</td>\n",
       "      <td>0.765836</td>\n",
       "      <td>1.409746</td>\n",
       "      <td>5.484909</td>\n",
       "      <td>-0.020496</td>\n",
       "      <td>1</td>\n",
       "    </tr>\n",
       "  </tbody>\n",
       "</table>\n",
       "</div>"
      ],
      "text/plain": [
       "   Pregnancies   Glucose  BloodPressure  SkinThickness   Insulin       BMI  \\\n",
       "0     0.639947  0.848324       0.149641       0.907270 -0.692891  0.204013   \n",
       "1    -0.844885 -1.123396      -0.160546       0.530902 -0.692891 -0.684422   \n",
       "2     1.233880  1.943724      -0.263941      -1.288212 -0.692891 -1.103255   \n",
       "3    -0.844885 -0.998208      -0.160546       0.154533  0.123302 -0.494043   \n",
       "4    -1.141852  0.504055      -1.504687       0.907270  0.765836  1.409746   \n",
       "\n",
       "   DiabetesPedigreeFunction       Age  Class  \n",
       "0                  0.468492  1.425995      1  \n",
       "1                 -0.365061 -0.190672      0  \n",
       "2                  0.604397 -0.105584      1  \n",
       "3                 -0.920763 -1.041549      0  \n",
       "4                  5.484909 -0.020496      1  "
      ]
     },
     "execution_count": 13,
     "metadata": {},
     "output_type": "execute_result"
    }
   ],
   "source": [
    "data = pd.read_csv(\"diabetes_scaled.csv\")\n",
    "data.head()"
   ]
  },
  {
   "cell_type": "markdown",
   "metadata": {},
   "source": [
    "Firstly, we add the intercept column (value equal to 1 for all rows), just for easier futher analysis."
   ]
  },
  {
   "cell_type": "code",
   "execution_count": 14,
   "metadata": {},
   "outputs": [
    {
     "data": {
      "text/html": [
       "<div>\n",
       "<style scoped>\n",
       "    .dataframe tbody tr th:only-of-type {\n",
       "        vertical-align: middle;\n",
       "    }\n",
       "\n",
       "    .dataframe tbody tr th {\n",
       "        vertical-align: top;\n",
       "    }\n",
       "\n",
       "    .dataframe thead th {\n",
       "        text-align: right;\n",
       "    }\n",
       "</style>\n",
       "<table border=\"1\" class=\"dataframe\">\n",
       "  <thead>\n",
       "    <tr style=\"text-align: right;\">\n",
       "      <th></th>\n",
       "      <th>Pregnancies</th>\n",
       "      <th>Glucose</th>\n",
       "      <th>BloodPressure</th>\n",
       "      <th>SkinThickness</th>\n",
       "      <th>Insulin</th>\n",
       "      <th>BMI</th>\n",
       "      <th>DiabetesPedigreeFunction</th>\n",
       "      <th>Age</th>\n",
       "      <th>Class</th>\n",
       "      <th>Intercept</th>\n",
       "    </tr>\n",
       "  </thead>\n",
       "  <tbody>\n",
       "    <tr>\n",
       "      <th>0</th>\n",
       "      <td>0.639947</td>\n",
       "      <td>0.848324</td>\n",
       "      <td>0.149641</td>\n",
       "      <td>0.907270</td>\n",
       "      <td>-0.692891</td>\n",
       "      <td>0.204013</td>\n",
       "      <td>0.468492</td>\n",
       "      <td>1.425995</td>\n",
       "      <td>1</td>\n",
       "      <td>1</td>\n",
       "    </tr>\n",
       "    <tr>\n",
       "      <th>1</th>\n",
       "      <td>-0.844885</td>\n",
       "      <td>-1.123396</td>\n",
       "      <td>-0.160546</td>\n",
       "      <td>0.530902</td>\n",
       "      <td>-0.692891</td>\n",
       "      <td>-0.684422</td>\n",
       "      <td>-0.365061</td>\n",
       "      <td>-0.190672</td>\n",
       "      <td>0</td>\n",
       "      <td>1</td>\n",
       "    </tr>\n",
       "    <tr>\n",
       "      <th>2</th>\n",
       "      <td>1.233880</td>\n",
       "      <td>1.943724</td>\n",
       "      <td>-0.263941</td>\n",
       "      <td>-1.288212</td>\n",
       "      <td>-0.692891</td>\n",
       "      <td>-1.103255</td>\n",
       "      <td>0.604397</td>\n",
       "      <td>-0.105584</td>\n",
       "      <td>1</td>\n",
       "      <td>1</td>\n",
       "    </tr>\n",
       "    <tr>\n",
       "      <th>3</th>\n",
       "      <td>-0.844885</td>\n",
       "      <td>-0.998208</td>\n",
       "      <td>-0.160546</td>\n",
       "      <td>0.154533</td>\n",
       "      <td>0.123302</td>\n",
       "      <td>-0.494043</td>\n",
       "      <td>-0.920763</td>\n",
       "      <td>-1.041549</td>\n",
       "      <td>0</td>\n",
       "      <td>1</td>\n",
       "    </tr>\n",
       "    <tr>\n",
       "      <th>4</th>\n",
       "      <td>-1.141852</td>\n",
       "      <td>0.504055</td>\n",
       "      <td>-1.504687</td>\n",
       "      <td>0.907270</td>\n",
       "      <td>0.765836</td>\n",
       "      <td>1.409746</td>\n",
       "      <td>5.484909</td>\n",
       "      <td>-0.020496</td>\n",
       "      <td>1</td>\n",
       "      <td>1</td>\n",
       "    </tr>\n",
       "  </tbody>\n",
       "</table>\n",
       "</div>"
      ],
      "text/plain": [
       "   Pregnancies   Glucose  BloodPressure  SkinThickness   Insulin       BMI  \\\n",
       "0     0.639947  0.848324       0.149641       0.907270 -0.692891  0.204013   \n",
       "1    -0.844885 -1.123396      -0.160546       0.530902 -0.692891 -0.684422   \n",
       "2     1.233880  1.943724      -0.263941      -1.288212 -0.692891 -1.103255   \n",
       "3    -0.844885 -0.998208      -0.160546       0.154533  0.123302 -0.494043   \n",
       "4    -1.141852  0.504055      -1.504687       0.907270  0.765836  1.409746   \n",
       "\n",
       "   DiabetesPedigreeFunction       Age  Class  Intercept  \n",
       "0                  0.468492  1.425995      1          1  \n",
       "1                 -0.365061 -0.190672      0          1  \n",
       "2                  0.604397 -0.105584      1          1  \n",
       "3                 -0.920763 -1.041549      0          1  \n",
       "4                  5.484909 -0.020496      1          1  "
      ]
     },
     "execution_count": 14,
     "metadata": {},
     "output_type": "execute_result"
    }
   ],
   "source": [
    "#TODO add column\n",
    "data.insert(len(data.columns),\"Intercept\", 1)\n",
    "data.head()"
   ]
  },
  {
   "cell_type": "markdown",
   "metadata": {},
   "source": [
    "Next, we divide our data into train and test. Let's just leave last 100 cases in the test set, the remaining ones will be the training examples."
   ]
  },
  {
   "cell_type": "code",
   "execution_count": 15,
   "metadata": {},
   "outputs": [],
   "source": [
    "from sklearn.model_selection import train_test_split\n",
    "\n",
    "data_X = data.loc[:, data.columns != 'Class']\n",
    "data_Y = data['Class']\n",
    "\n",
    "x_train, x_test = train_test_split(data_X, test_size=100, shuffle=False)\n",
    "y_train, y_test = train_test_split(data_Y, test_size=100, shuffle=False)"
   ]
  },
  {
   "cell_type": "markdown",
   "metadata": {},
   "source": [
    "Use the scikit learn implementation of te logistic regression to build the model on the training set. What are the obtained regression coefficients?"
   ]
  },
  {
   "cell_type": "code",
   "execution_count": 16,
   "metadata": {},
   "outputs": [
    {
     "name": "stdout",
     "output_type": "stream",
     "text": [
      "[[ 4.49785153e-01  1.03292911e+00 -2.55762951e-01  2.50966721e-02\n",
      "  -1.00998027e-01  7.58437700e-01  3.43550609e-01  1.32145837e-01\n",
      "  -6.45236385e-07]]\n",
      "[-0.87086528]\n"
     ]
    }
   ],
   "source": [
    "regression_model = LogisticRegression()\n",
    "regression_model.fit(x_train, y_train)\n",
    "print(regression_model.coef_)\n",
    "print(regression_model.intercept_)"
   ]
  },
  {
   "cell_type": "markdown",
   "metadata": {},
   "source": [
    "Now, evaluate your model on the test examples. Classify the test examples, find the probabilitiy of diabetes desease for each test case and the overall accuracy score."
   ]
  },
  {
   "cell_type": "code",
   "execution_count": 17,
   "metadata": {},
   "outputs": [
    {
     "name": "stdout",
     "output_type": "stream",
     "text": [
      "Classification from model: [0 1 1 0 0 1 0 1 1 0 0 0 0 1 0 0 0 0 0 0 0 1 0 1 0 1 0 0 1 0 0 1 0 0 1 1 0\n",
      " 0 0 0 1 0 0 0 1 0 0 1 1 0 0 0 0 0 0 0 0 0 0 0 0 0 0 0 1 0 0 0 0 0 0 0 1 0\n",
      " 0 1 1 0 1 0 1 1 1 0 0 1 1 0 0 0 0 1 0 1 0 0 0 0 0 0]\n",
      "Classification proba from model: [[0.72984132 0.27015868]\n",
      " [0.38341139 0.61658861]\n",
      " [0.21658152 0.78341848]\n",
      " [0.92045854 0.07954146]\n",
      " [0.87182711 0.12817289]\n",
      " [0.21563804 0.78436196]\n",
      " [0.6359021  0.3640979 ]\n",
      " [0.17381772 0.82618228]\n",
      " [0.48858182 0.51141818]\n",
      " [0.89275378 0.10724622]\n",
      " [0.68594754 0.31405246]\n",
      " [0.92409962 0.07590038]\n",
      " [0.98238602 0.01761398]\n",
      " [0.19013911 0.80986089]\n",
      " [0.76309859 0.23690141]\n",
      " [0.68952448 0.31047552]\n",
      " [0.94604912 0.05395088]\n",
      " [0.70558291 0.29441709]\n",
      " [0.84946689 0.15053311]\n",
      " [0.88941859 0.11058141]\n",
      " [0.78289603 0.21710397]\n",
      " [0.34587654 0.65412346]\n",
      " [0.76422571 0.23577429]\n",
      " [0.1317277  0.8682723 ]\n",
      " [0.53054174 0.46945826]\n",
      " [0.36949371 0.63050629]\n",
      " [0.95928537 0.04071463]\n",
      " [0.68768294 0.31231706]\n",
      " [0.49338491 0.50661509]\n",
      " [0.89728949 0.10271051]\n",
      " [0.66156722 0.33843278]\n",
      " [0.34231652 0.65768348]\n",
      " [0.72346537 0.27653463]\n",
      " [0.65259702 0.34740298]\n",
      " [0.25822389 0.74177611]\n",
      " [0.3462472  0.6537528 ]\n",
      " [0.89044073 0.10955927]\n",
      " [0.82751517 0.17248483]\n",
      " [0.93231242 0.06768758]\n",
      " [0.73868403 0.26131597]\n",
      " [0.2679336  0.7320664 ]\n",
      " [0.79100823 0.20899177]\n",
      " [0.58944769 0.41055231]\n",
      " [0.68927159 0.31072841]\n",
      " [0.2125958  0.7874042 ]\n",
      " [0.85819278 0.14180722]\n",
      " [0.90374704 0.09625296]\n",
      " [0.09572891 0.90427109]\n",
      " [0.23405821 0.76594179]\n",
      " [0.79621725 0.20378275]\n",
      " [0.80512833 0.19487167]\n",
      " [0.73871184 0.26128816]\n",
      " [0.93354007 0.06645993]\n",
      " [0.7778623  0.2221377 ]\n",
      " [0.65564393 0.34435607]\n",
      " [0.62705654 0.37294346]\n",
      " [0.86610725 0.13389275]\n",
      " [0.653142   0.346858  ]\n",
      " [0.78134383 0.21865617]\n",
      " [0.72717953 0.27282047]\n",
      " [0.67554813 0.32445187]\n",
      " [0.91978715 0.08021285]\n",
      " [0.78485127 0.21514873]\n",
      " [0.77270103 0.22729897]\n",
      " [0.16506288 0.83493712]\n",
      " [0.87567903 0.12432097]\n",
      " [0.89976173 0.10023827]\n",
      " [0.80293185 0.19706815]\n",
      " [0.88109557 0.11890443]\n",
      " [0.86472523 0.13527477]\n",
      " [0.81672664 0.18327336]\n",
      " [0.77785464 0.22214536]\n",
      " [0.20436271 0.79563729]\n",
      " [0.82443551 0.17556449]\n",
      " [0.90458747 0.09541253]\n",
      " [0.35067015 0.64932985]\n",
      " [0.06094119 0.93905881]\n",
      " [0.6655456  0.3344544 ]\n",
      " [0.3007412  0.6992588 ]\n",
      " [0.63233281 0.36766719]\n",
      " [0.19350836 0.80649164]\n",
      " [0.4948864  0.5051136 ]\n",
      " [0.45063847 0.54936153]\n",
      " [0.71790973 0.28209027]\n",
      " [0.89650126 0.10349874]\n",
      " [0.328222   0.671778  ]\n",
      " [0.29603786 0.70396214]\n",
      " [0.54616092 0.45383908]\n",
      " [0.53029454 0.46970546]\n",
      " [0.71368715 0.28631285]\n",
      " [0.83512203 0.16487797]\n",
      " [0.1311605  0.8688395 ]\n",
      " [0.89438816 0.10561184]\n",
      " [0.06779927 0.93220073]\n",
      " [0.91217814 0.08782186]\n",
      " [0.67214544 0.32785456]\n",
      " [0.68080737 0.31919263]\n",
      " [0.83275171 0.16724829]\n",
      " [0.74701454 0.25298546]\n",
      " [0.92478733 0.07521267]]\n",
      "Accuracy score: 0.8\n"
     ]
    }
   ],
   "source": [
    "from sklearn.metrics import accuracy_score\n",
    "\n",
    "print(f\"Classification from model: {regression_model.predict(x_test)}\")\n",
    "print(f\"Classification proba from model: {regression_model.predict_proba(x_test)}\")\n",
    "accuracy = accuracy_score(y_test, regression_model.predict(x_test))\n",
    "print(f\"Accuracy score: {accuracy}\")"
   ]
  },
  {
   "cell_type": "code",
   "execution_count": null,
   "metadata": {},
   "outputs": [],
   "source": []
  },
  {
   "cell_type": "code",
   "execution_count": null,
   "metadata": {},
   "outputs": [],
   "source": []
  }
 ],
 "metadata": {
  "kernelspec": {
   "display_name": "Python 3 (ipykernel)",
   "language": "python",
   "name": "python3"
  },
  "language_info": {
   "codemirror_mode": {
    "name": "ipython",
    "version": 3
   },
   "file_extension": ".py",
   "mimetype": "text/x-python",
   "name": "python",
   "nbconvert_exporter": "python",
   "pygments_lexer": "ipython3",
   "version": "3.10.6"
  }
 },
 "nbformat": 4,
 "nbformat_minor": 4
}
