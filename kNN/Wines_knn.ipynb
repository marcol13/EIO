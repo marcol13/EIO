{
 "cells": [
  {
   "cell_type": "markdown",
   "id": "a80e4e87",
   "metadata": {},
   "source": [
    "#  Homework\n",
    "You are given a dataset containing information about 1600 red wines (winequality.csv) containing 11 attributes and assignment to one of the three wine quality classess: \"poor\", \"medium\" and \"good\". Perform a preprocessing of this dataset (normalization, standardization). Divide this set into the train and test sets. Choose experimentally the best value of k (using cross-validation) and perform classification using the  k-nn algoritm with the chosen k value. Write a report containing information about the used preprocessing methods, chosen train/test split method (percentage of examples in train/test sets, if shuffling or stratification used), plot of the accuracy depending of k parameter, finally chosen k and obtained classification accuracy on a test set."
   ]
  },
  {
   "cell_type": "code",
   "execution_count": 1,
   "id": "2f0a64b0",
   "metadata": {},
   "outputs": [],
   "source": [
    "import pandas as pd\n",
    "import numpy as np\n",
    "from sklearn.feature_selection import SelectKBest, chi2, mutual_info_classif, f_classif\n",
    "from sklearn.model_selection import train_test_split\n",
    "from sklearn.neighbors import KNeighborsClassifier\n",
    "from sklearn import metrics\n",
    "from sklearn import preprocessing\n",
    "from sklearn import model_selection\n",
    "import matplotlib.pyplot as plt"
   ]
  },
  {
   "cell_type": "markdown",
   "id": "d82b7a54",
   "metadata": {},
   "source": [
    "### 1. Wczytywanie danych"
   ]
  },
  {
   "cell_type": "code",
   "execution_count": 5,
   "id": "22eabda4",
   "metadata": {},
   "outputs": [
    {
     "data": {
      "text/html": [
       "<div>\n",
       "<style scoped>\n",
       "    .dataframe tbody tr th:only-of-type {\n",
       "        vertical-align: middle;\n",
       "    }\n",
       "\n",
       "    .dataframe tbody tr th {\n",
       "        vertical-align: top;\n",
       "    }\n",
       "\n",
       "    .dataframe thead th {\n",
       "        text-align: right;\n",
       "    }\n",
       "</style>\n",
       "<table border=\"1\" class=\"dataframe\">\n",
       "  <thead>\n",
       "    <tr style=\"text-align: right;\">\n",
       "      <th></th>\n",
       "      <th>fixed acidity</th>\n",
       "      <th>volatile acidity</th>\n",
       "      <th>citric acid</th>\n",
       "      <th>residual sugar</th>\n",
       "      <th>chlorides</th>\n",
       "      <th>free sulfur dioxide</th>\n",
       "      <th>total sulfur dioxide</th>\n",
       "      <th>density</th>\n",
       "      <th>pH</th>\n",
       "      <th>sulphates</th>\n",
       "      <th>alcohol</th>\n",
       "    </tr>\n",
       "  </thead>\n",
       "  <tbody>\n",
       "    <tr>\n",
       "      <th>0</th>\n",
       "      <td>7.4</td>\n",
       "      <td>0.70</td>\n",
       "      <td>0.00</td>\n",
       "      <td>1.9</td>\n",
       "      <td>0.076</td>\n",
       "      <td>11.0</td>\n",
       "      <td>34.0</td>\n",
       "      <td>0.9978</td>\n",
       "      <td>3.51</td>\n",
       "      <td>0.56</td>\n",
       "      <td>9.4</td>\n",
       "    </tr>\n",
       "    <tr>\n",
       "      <th>1</th>\n",
       "      <td>7.8</td>\n",
       "      <td>0.88</td>\n",
       "      <td>0.00</td>\n",
       "      <td>2.6</td>\n",
       "      <td>0.098</td>\n",
       "      <td>25.0</td>\n",
       "      <td>67.0</td>\n",
       "      <td>0.9968</td>\n",
       "      <td>3.20</td>\n",
       "      <td>0.68</td>\n",
       "      <td>9.8</td>\n",
       "    </tr>\n",
       "    <tr>\n",
       "      <th>2</th>\n",
       "      <td>7.8</td>\n",
       "      <td>0.76</td>\n",
       "      <td>0.04</td>\n",
       "      <td>2.3</td>\n",
       "      <td>0.092</td>\n",
       "      <td>15.0</td>\n",
       "      <td>54.0</td>\n",
       "      <td>0.9970</td>\n",
       "      <td>3.26</td>\n",
       "      <td>0.65</td>\n",
       "      <td>9.8</td>\n",
       "    </tr>\n",
       "    <tr>\n",
       "      <th>3</th>\n",
       "      <td>11.2</td>\n",
       "      <td>0.28</td>\n",
       "      <td>0.56</td>\n",
       "      <td>1.9</td>\n",
       "      <td>0.075</td>\n",
       "      <td>17.0</td>\n",
       "      <td>60.0</td>\n",
       "      <td>0.9980</td>\n",
       "      <td>3.16</td>\n",
       "      <td>0.58</td>\n",
       "      <td>9.8</td>\n",
       "    </tr>\n",
       "    <tr>\n",
       "      <th>4</th>\n",
       "      <td>7.4</td>\n",
       "      <td>0.70</td>\n",
       "      <td>0.00</td>\n",
       "      <td>1.9</td>\n",
       "      <td>0.076</td>\n",
       "      <td>11.0</td>\n",
       "      <td>34.0</td>\n",
       "      <td>0.9978</td>\n",
       "      <td>3.51</td>\n",
       "      <td>0.56</td>\n",
       "      <td>9.4</td>\n",
       "    </tr>\n",
       "  </tbody>\n",
       "</table>\n",
       "</div>"
      ],
      "text/plain": [
       "   fixed acidity  volatile acidity  citric acid  residual sugar  chlorides  \\\n",
       "0            7.4              0.70         0.00             1.9      0.076   \n",
       "1            7.8              0.88         0.00             2.6      0.098   \n",
       "2            7.8              0.76         0.04             2.3      0.092   \n",
       "3           11.2              0.28         0.56             1.9      0.075   \n",
       "4            7.4              0.70         0.00             1.9      0.076   \n",
       "\n",
       "   free sulfur dioxide  total sulfur dioxide  density    pH  sulphates  \\\n",
       "0                 11.0                  34.0   0.9978  3.51       0.56   \n",
       "1                 25.0                  67.0   0.9968  3.20       0.68   \n",
       "2                 15.0                  54.0   0.9970  3.26       0.65   \n",
       "3                 17.0                  60.0   0.9980  3.16       0.58   \n",
       "4                 11.0                  34.0   0.9978  3.51       0.56   \n",
       "\n",
       "   alcohol  \n",
       "0      9.4  \n",
       "1      9.8  \n",
       "2      9.8  \n",
       "3      9.8  \n",
       "4      9.4  "
      ]
     },
     "execution_count": 5,
     "metadata": {},
     "output_type": "execute_result"
    }
   ],
   "source": [
    "def read_data(path):\n",
    "    file = pd.read_csv(path)\n",
    "    df = pd.DataFrame(file)\n",
    "    status = df.pop(\"quality\")\n",
    "    return df, status\n",
    "\n",
    "data_X, data_Y = read_data(\"assets/winequality-red.csv\")\n",
    "\n",
    "data_X.head()"
   ]
  },
  {
   "cell_type": "code",
   "execution_count": 6,
   "id": "cdc6feba",
   "metadata": {},
   "outputs": [
    {
     "data": {
      "text/plain": [
       "0         poor\n",
       "1         poor\n",
       "2         poor\n",
       "3       medium\n",
       "4         poor\n",
       "         ...  \n",
       "1594      poor\n",
       "1595    medium\n",
       "1596    medium\n",
       "1597      poor\n",
       "1598    medium\n",
       "Name: quality, Length: 1599, dtype: object"
      ]
     },
     "execution_count": 6,
     "metadata": {},
     "output_type": "execute_result"
    }
   ],
   "source": [
    "data_Y"
   ]
  },
  {
   "cell_type": "markdown",
   "id": "83b1b293",
   "metadata": {},
   "source": [
    "### 2. Standaryzacja danych"
   ]
  },
  {
   "cell_type": "code",
   "execution_count": 25,
   "id": "a99f5ef1",
   "metadata": {},
   "outputs": [],
   "source": [
    "def standarize_train_and_test(data_X):\n",
    "    scaler = preprocessing.StandardScaler()\n",
    "    return scaler.fit_transform(data_X)\n",
    "\n",
    "norm_data_X = standarize_train_and_test(data_X)"
   ]
  },
  {
   "cell_type": "markdown",
   "id": "a089c6a9",
   "metadata": {},
   "source": [
    "Preprocessing danych polega na użyciu StandardScaler na danych wejściowych (train_X, test_X)"
   ]
  },
  {
   "cell_type": "markdown",
   "id": "eae0f2e2",
   "metadata": {},
   "source": [
    "### 3. Podział danych na zbiór treningowy oraz testowy"
   ]
  },
  {
   "cell_type": "code",
   "execution_count": 26,
   "id": "48519626",
   "metadata": {},
   "outputs": [
    {
     "name": "stdout",
     "output_type": "stream",
     "text": [
      "rows in train set:  1279\n",
      "rows in test set: 320\n"
     ]
    }
   ],
   "source": [
    "def split_data(data_X, data_Y, test_percent = 20, random_state=5):\n",
    "    X_train, X_test, y_train, y_test = train_test_split(data_X, data_Y, test_size = test_percent / 100, random_state = random_state)\n",
    "    return X_train, y_train, X_test, y_test\n",
    "    \n",
    "(train_X, train_Y, test_X, test_Y) = split_data(norm_data_X, data_Y)\n",
    "print(\"rows in train set: \", train_X.shape[0])\n",
    "print(\"rows in test set:\", test_X.shape[0])"
   ]
  },
  {
   "cell_type": "markdown",
   "id": "0e2260c2",
   "metadata": {},
   "source": [
    "Do podziału została użyta funkcja train_test_split z proporcją 80/20 (rozmiar zbioru treningowego/rozmiar zbioru testowego)"
   ]
  },
  {
   "cell_type": "markdown",
   "id": "81e48d1c",
   "metadata": {},
   "source": [
    "### 4. Wybór parametru k"
   ]
  },
  {
   "cell_type": "code",
   "execution_count": 28,
   "id": "38265559",
   "metadata": {},
   "outputs": [
    {
     "name": "stdout",
     "output_type": "stream",
     "text": [
      "[0.7137254901960784, 0.6484375, 0.6171875, 0.6196078431372549, 0.63671875, 0.63671875, 0.64453125, 0.6484375, 0.64453125, 0.6484375, 0.6640625, 0.63671875, 0.6431372549019608, 0.65234375, 0.65234375, 0.640625, 0.63671875, 0.65625, 0.65234375, 0.63671875]\n"
     ]
    },
    {
     "data": {
      "image/png": "[encoded data removed]",
      "text/plain": [
       "<Figure size 432x288 with 1 Axes>"
      ]
     },
     "metadata": {
      "needs_background": "light"
     },
     "output_type": "display_data"
    }
   ],
   "source": [
    "scores = []\n",
    "for i in range(1,21):\n",
    "    neigh = KNeighborsClassifier(n_neighbors=i)\n",
    "    cv_results = model_selection.cross_validate(neigh, train_X, train_Y, cv=5, scoring=[\"accuracy\"])\n",
    "    scores.append(max(cv_results[\"test_accuracy\"]))\n",
    "    \n",
    "print(scores)\n",
    "ax = plt.figure().gca()\n",
    "ax.xaxis.get_major_locator().set_params(integer=True)\n",
    "plt.plot([i for i in scores])\n",
    "plt.title(\"Wykres accuracy względem parametru k\")\n",
    "plt.xlabel(\"parametr k\")\n",
    "plt.ylabel(\"accuracy\")\n",
    "plt.show()"
   ]
  },
  {
   "cell_type": "markdown",
   "id": "d87245f1",
   "metadata": {},
   "source": [
    "Najlepsze accuracy występuje dla parametru $k = 1$"
   ]
  },
  {
   "cell_type": "markdown",
   "id": "04452302",
   "metadata": {},
   "source": [
    "### 5. Klasyfikacja za pomocą algorytmu k-NN"
   ]
  },
  {
   "cell_type": "code",
   "execution_count": 30,
   "id": "e35acb4e",
   "metadata": {},
   "outputs": [
    {
     "name": "stdout",
     "output_type": "stream",
     "text": [
      "0.665625\n"
     ]
    }
   ],
   "source": [
    "def get_classification_accuracy(train_data_X, train_data_Y, test_data_X, test_data_Y, k = 3):\n",
    "    neigh = KNeighborsClassifier(n_neighbors=k)\n",
    "    neigh.fit(train_data_X, train_data_Y)\n",
    "    predict = neigh.predict(test_data_X)\n",
    "    return metrics.accuracy_score(test_data_Y, predict)\n",
    "\n",
    "accuracy = get_classification_accuracy(train_X, train_Y, test_X, test_Y, k = np.argmax(scores) + 1)\n",
    "print(accuracy)"
   ]
  },
  {
   "cell_type": "markdown",
   "id": "df7cb936",
   "metadata": {},
   "source": []
  }
 ],
 "metadata": {
  "kernelspec": {
   "display_name": "Python 3 (ipykernel)",
   "language": "python",
   "name": "python3"
  },
  "language_info": {
   "codemirror_mode": {
    "name": "ipython",
    "version": 3
   },
   "file_extension": ".py",
   "mimetype": "text/x-python",
   "name": "python",
   "nbconvert_exporter": "python",
   "pygments_lexer": "ipython3",
   "version": "3.10.6"
  }
 },
 "nbformat": 4,
 "nbformat_minor": 5
}
