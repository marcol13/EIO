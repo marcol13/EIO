{
 "cells": [
  {
   "cell_type": "markdown",
   "id": "42255847",
   "metadata": {},
   "source": [
    "### Homework\n",
    "\n",
    "- Write your own implementation of k-means algorithm with random centroid initialization and 2 stopping conditions: max iterations and centroid convergence (if all attributes of all centroids changes not more than some epsilon the algorithm should stop).\n",
    "- Use your implementation to cluster data containing data about cereal products with their dietary characteristics (cereals.csv, 16 attributes).\n",
    "- It contains some nominal attributes (name, mfr, type). You can omit the first two of them. Type attribute is binary, so you can replace it with values 0 and 1.\n",
    "- Perform the clustering of the cereals into 3 groups using k-means algorithm.\n",
    "- Remember to preprocess the given input: normalization/standarization, attribute selection.\n",
    "- Try to describe the obtained groups based on the obtained centroids, what do all cereals within this group have in common?\n",
    "- Write a report containing information about used preprocessing methods, number of cereals within each cluster and your conclusions about the clustering results."
   ]
  },
  {
   "cell_type": "markdown",
   "id": "bcc50148",
   "metadata": {},
   "source": [
    "## Marcin Krueger L11 145244"
   ]
  },
  {
   "cell_type": "code",
   "execution_count": 2,
   "id": "6706bc93",
   "metadata": {},
   "outputs": [],
   "source": [
    "import pandas as pd\n",
    "import numpy as np\n",
    "from sklearn.neighbors import KNeighborsClassifier\n",
    "from sklearn.model_selection import train_test_split\n",
    "from sklearn.metrics import accuracy_score\n",
    "from sklearn.preprocessing import MinMaxScaler\n",
    "from sklearn.feature_selection import VarianceThreshold\n",
    "from sklearn.feature_selection import SelectKBest, mutual_info_classif"
   ]
  },
  {
   "cell_type": "markdown",
   "id": "b06dad29",
   "metadata": {},
   "source": [
    "### Wczytywanie danych"
   ]
  },
  {
   "cell_type": "code",
   "execution_count": 145,
   "id": "edad8738",
   "metadata": {},
   "outputs": [
    {
     "data": {
      "text/html": [
       "<div>\n",
       "<style scoped>\n",
       "    .dataframe tbody tr th:only-of-type {\n",
       "        vertical-align: middle;\n",
       "    }\n",
       "\n",
       "    .dataframe tbody tr th {\n",
       "        vertical-align: top;\n",
       "    }\n",
       "\n",
       "    .dataframe thead th {\n",
       "        text-align: right;\n",
       "    }\n",
       "</style>\n",
       "<table border=\"1\" class=\"dataframe\">\n",
       "  <thead>\n",
       "    <tr style=\"text-align: right;\">\n",
       "      <th></th>\n",
       "      <th>type</th>\n",
       "      <th>calories</th>\n",
       "      <th>protein</th>\n",
       "      <th>fat</th>\n",
       "      <th>sodium</th>\n",
       "      <th>fiber</th>\n",
       "      <th>carbo</th>\n",
       "      <th>sugars</th>\n",
       "      <th>potass</th>\n",
       "      <th>vitamins</th>\n",
       "      <th>shelf</th>\n",
       "      <th>weight</th>\n",
       "      <th>cups</th>\n",
       "      <th>rating</th>\n",
       "    </tr>\n",
       "  </thead>\n",
       "  <tbody>\n",
       "    <tr>\n",
       "      <th>0</th>\n",
       "      <td>1</td>\n",
       "      <td>70</td>\n",
       "      <td>4</td>\n",
       "      <td>1</td>\n",
       "      <td>130</td>\n",
       "      <td>10.0</td>\n",
       "      <td>5.0</td>\n",
       "      <td>6</td>\n",
       "      <td>280</td>\n",
       "      <td>25</td>\n",
       "      <td>3</td>\n",
       "      <td>1.0</td>\n",
       "      <td>0.33</td>\n",
       "      <td>68.402973</td>\n",
       "    </tr>\n",
       "    <tr>\n",
       "      <th>1</th>\n",
       "      <td>1</td>\n",
       "      <td>120</td>\n",
       "      <td>3</td>\n",
       "      <td>5</td>\n",
       "      <td>15</td>\n",
       "      <td>2.0</td>\n",
       "      <td>8.0</td>\n",
       "      <td>8</td>\n",
       "      <td>135</td>\n",
       "      <td>0</td>\n",
       "      <td>3</td>\n",
       "      <td>1.0</td>\n",
       "      <td>1.00</td>\n",
       "      <td>33.983679</td>\n",
       "    </tr>\n",
       "    <tr>\n",
       "      <th>2</th>\n",
       "      <td>1</td>\n",
       "      <td>70</td>\n",
       "      <td>4</td>\n",
       "      <td>1</td>\n",
       "      <td>260</td>\n",
       "      <td>9.0</td>\n",
       "      <td>7.0</td>\n",
       "      <td>5</td>\n",
       "      <td>320</td>\n",
       "      <td>25</td>\n",
       "      <td>3</td>\n",
       "      <td>1.0</td>\n",
       "      <td>0.33</td>\n",
       "      <td>59.425505</td>\n",
       "    </tr>\n",
       "    <tr>\n",
       "      <th>3</th>\n",
       "      <td>1</td>\n",
       "      <td>50</td>\n",
       "      <td>4</td>\n",
       "      <td>0</td>\n",
       "      <td>140</td>\n",
       "      <td>14.0</td>\n",
       "      <td>8.0</td>\n",
       "      <td>0</td>\n",
       "      <td>330</td>\n",
       "      <td>25</td>\n",
       "      <td>3</td>\n",
       "      <td>1.0</td>\n",
       "      <td>0.50</td>\n",
       "      <td>93.704912</td>\n",
       "    </tr>\n",
       "    <tr>\n",
       "      <th>4</th>\n",
       "      <td>1</td>\n",
       "      <td>110</td>\n",
       "      <td>2</td>\n",
       "      <td>2</td>\n",
       "      <td>200</td>\n",
       "      <td>1.0</td>\n",
       "      <td>14.0</td>\n",
       "      <td>8</td>\n",
       "      <td>-1</td>\n",
       "      <td>25</td>\n",
       "      <td>3</td>\n",
       "      <td>1.0</td>\n",
       "      <td>0.75</td>\n",
       "      <td>34.384843</td>\n",
       "    </tr>\n",
       "  </tbody>\n",
       "</table>\n",
       "</div>"
      ],
      "text/plain": [
       "   type  calories  protein  fat  sodium  fiber  carbo  sugars  potass  \\\n",
       "0     1        70        4    1     130   10.0    5.0       6     280   \n",
       "1     1       120        3    5      15    2.0    8.0       8     135   \n",
       "2     1        70        4    1     260    9.0    7.0       5     320   \n",
       "3     1        50        4    0     140   14.0    8.0       0     330   \n",
       "4     1       110        2    2     200    1.0   14.0       8      -1   \n",
       "\n",
       "   vitamins  shelf  weight  cups     rating  \n",
       "0        25      3     1.0  0.33  68.402973  \n",
       "1         0      3     1.0  1.00  33.983679  \n",
       "2        25      3     1.0  0.33  59.425505  \n",
       "3        25      3     1.0  0.50  93.704912  \n",
       "4        25      3     1.0  0.75  34.384843  "
      ]
     },
     "execution_count": 145,
     "metadata": {},
     "output_type": "execute_result"
    }
   ],
   "source": [
    "def load_data(path):\n",
    "    df = pd.read_csv(path)\n",
    "    df = df.drop(\"name\", axis=1)\n",
    "    df = df.drop(\"mfr\", axis=1)\n",
    "    df[\"type\"] = np.where(df[\"type\"] == \"C\", 1, 0) \n",
    "    return df\n",
    "\n",
    "df = load_data(\"assets/cereal.csv\")\n",
    "columns = df.columns\n",
    "df.head()"
   ]
  },
  {
   "cell_type": "markdown",
   "id": "b8797151",
   "metadata": {},
   "source": [
    "### Normalizacja wartości\n",
    "\n",
    "Do normalizacji wartości został wykorzystany MinMaxScaler"
   ]
  },
  {
   "cell_type": "code",
   "execution_count": 146,
   "id": "53f3826a",
   "metadata": {},
   "outputs": [
    {
     "data": {
      "text/plain": [
       "array([[1.        , 0.18181818, 0.6       , ..., 0.5       , 0.064     ,\n",
       "        0.66559279],\n",
       "       [1.        , 0.63636364, 0.4       , ..., 0.5       , 0.6       ,\n",
       "        0.21068456],\n",
       "       [1.        , 0.18181818, 0.6       , ..., 0.5       , 0.064     ,\n",
       "        0.54694061],\n",
       "       ...,\n",
       "       [1.        , 0.45454545, 0.4       , ..., 0.5       , 0.336     ,\n",
       "        0.41955762],\n",
       "       [1.        , 0.45454545, 0.4       , ..., 0.5       , 0.6       ,\n",
       "        0.44341036],\n",
       "       [1.        , 0.54545455, 0.2       , ..., 0.5       , 0.4       ,\n",
       "        0.2398125 ]])"
      ]
     },
     "execution_count": 146,
     "metadata": {},
     "output_type": "execute_result"
    }
   ],
   "source": [
    "data = MinMaxScaler().fit_transform(df)\n",
    "data"
   ]
  },
  {
   "cell_type": "markdown",
   "id": "34de7825",
   "metadata": {},
   "source": [
    "### Wybór atrybutów\n",
    "\n",
    "Aby wybrać odpowiednie atrybuty wykorzystałem Variance Threshold, który pozwala się pozbyć atrybutów o zbyt małej różnorodności. Wartość progową wybrałem eksperymentalnie. Ostatecznie postanowiłem pracować na 8 atrybutach."
   ]
  },
  {
   "cell_type": "code",
   "execution_count": 147,
   "id": "ed5a6b8b",
   "metadata": {},
   "outputs": [
    {
     "name": "stdout",
     "output_type": "stream",
     "text": [
      "Selected columns: ['protein' 'sodium' 'sugars' 'potass' 'vitamins' 'shelf']\n",
      "Rejected columns: ['calories' 'carbo' 'cups' 'fat' 'fiber' 'rating' 'type' 'weight']\n"
     ]
    }
   ],
   "source": [
    "selector = VarianceThreshold(0.045)\n",
    "selected = selector.fit_transform(data)\n",
    "\n",
    "new_columns = selector.get_feature_names_out(columns)\n",
    "print(f\"Selected columns: {new_columns}\")\n",
    "\n",
    "deleted_columns = np.setdiff1d(np.array(columns),np.array(new_columns))\n",
    "print(f\"Rejected columns: {deleted_columns}\")"
   ]
  },
  {
   "cell_type": "markdown",
   "id": "7689dc3e",
   "metadata": {},
   "source": [
    "### Algorytm k-means\n",
    "\n",
    "- Funkcja distance liczy odległość euklidesową między punktem a centroidem\n",
    "- Centroidy inicjowane są jako losowa wartość ze zbioru\n",
    "- Jeżeli zmiana będzie zbyt mała lub maksymalna liczba iteracji zostanie przekroczona to algorytm zakończy działanie"
   ]
  },
  {
   "cell_type": "code",
   "execution_count": 148,
   "id": "274e54da",
   "metadata": {},
   "outputs": [],
   "source": [
    "def distance(x,y):\n",
    "    return np.sum((x - y) ** 2)"
   ]
  },
  {
   "cell_type": "code",
   "execution_count": 152,
   "id": "9ae5f633",
   "metadata": {},
   "outputs": [
    {
     "data": {
      "text/html": [
       "<div>\n",
       "<style scoped>\n",
       "    .dataframe tbody tr th:only-of-type {\n",
       "        vertical-align: middle;\n",
       "    }\n",
       "\n",
       "    .dataframe tbody tr th {\n",
       "        vertical-align: top;\n",
       "    }\n",
       "\n",
       "    .dataframe thead th {\n",
       "        text-align: right;\n",
       "    }\n",
       "</style>\n",
       "<table border=\"1\" class=\"dataframe\">\n",
       "  <thead>\n",
       "    <tr style=\"text-align: right;\">\n",
       "      <th></th>\n",
       "      <th>protein</th>\n",
       "      <th>sodium</th>\n",
       "      <th>sugars</th>\n",
       "      <th>potass</th>\n",
       "      <th>vitamins</th>\n",
       "      <th>shelf</th>\n",
       "    </tr>\n",
       "  </thead>\n",
       "  <tbody>\n",
       "    <tr>\n",
       "      <th>0</th>\n",
       "      <td>0.372222</td>\n",
       "      <td>0.495660</td>\n",
       "      <td>0.470486</td>\n",
       "      <td>0.395267</td>\n",
       "      <td>0.354167</td>\n",
       "      <td>1.000000</td>\n",
       "    </tr>\n",
       "    <tr>\n",
       "      <th>1</th>\n",
       "      <td>0.400000</td>\n",
       "      <td>0.464844</td>\n",
       "      <td>0.234375</td>\n",
       "      <td>0.246073</td>\n",
       "      <td>0.187500</td>\n",
       "      <td>0.150000</td>\n",
       "    </tr>\n",
       "    <tr>\n",
       "      <th>2</th>\n",
       "      <td>0.114286</td>\n",
       "      <td>0.537202</td>\n",
       "      <td>0.785714</td>\n",
       "      <td>0.163430</td>\n",
       "      <td>0.250000</td>\n",
       "      <td>0.357143</td>\n",
       "    </tr>\n",
       "  </tbody>\n",
       "</table>\n",
       "</div>"
      ],
      "text/plain": [
       "    protein    sodium    sugars    potass  vitamins     shelf\n",
       "0  0.372222  0.495660  0.470486  0.395267  0.354167  1.000000\n",
       "1  0.400000  0.464844  0.234375  0.246073  0.187500  0.150000\n",
       "2  0.114286  0.537202  0.785714  0.163430  0.250000  0.357143"
      ]
     },
     "execution_count": 152,
     "metadata": {},
     "output_type": "execute_result"
    }
   ],
   "source": [
    "def kmeans(data, k, max_iter, eps):\n",
    "    points = np.random.choice(range(len(data)), size=k)\n",
    "    centroids = np.array(data[points])\n",
    "    clusters = np.zeros(shape=(data.shape[0]))\n",
    "    \n",
    "    for _ in range(max_iter):\n",
    "        for i in range(len(data)):\n",
    "            min_distance = distance(data[i], centroids[0])\n",
    "            clusters[i] = 0\n",
    "            \n",
    "            for j in range(1, len(centroids)):\n",
    "                temp_distance = distance(data[i], centroids[j])\n",
    "                if min_distance > temp_distance:\n",
    "                    min_distance = temp_distance\n",
    "                    clusters[i] = j\n",
    "                    \n",
    "        new_centroids = np.array([np.mean(data[clusters == i], axis=0) for i in range(len(centroids))])\n",
    "        alteration_ratio = np.sum(np.abs(centroids - new_centroids))\n",
    "        centroids = new_centroids\n",
    "        \n",
    "        if alteration_ratio < eps:\n",
    "            break\n",
    "    \n",
    "    return centroids, clusters\n",
    "            \n",
    "centroids, clusters = kmeans(selected, 3, 100, 1e-6)\n",
    "\n",
    "pd.DataFrame(centroids, columns=new_columns)"
   ]
  },
  {
   "cell_type": "code",
   "execution_count": 153,
   "id": "de5f7e99",
   "metadata": {},
   "outputs": [
    {
     "name": "stdout",
     "output_type": "stream",
     "text": [
      "0 centroid: 36 examples\n",
      "1 centroid: 20 examples\n",
      "2 centroid: 21 examples\n"
     ]
    }
   ],
   "source": [
    "for i in range(len(centroids)):\n",
    "    print(f\"{i} centroid: {sum(clusters == i)} examples\")"
   ]
  },
  {
   "cell_type": "markdown",
   "id": "d58242e9",
   "metadata": {},
   "source": [
    "### Wyniki\n",
    "\n",
    "- Klaster 0 charakteryzuje się średnią wartością 'protein', 'sugars'\n",
    "- Klaster 1 charakteryzuje się wysoką wartością 'protein' oraz niską wartością 'sugars', 'vitamins' i 'shelf'\n",
    "- Klaster 2 charakteryzuje się wysoką wartością 'sugars', a także niską wartością 'protein', 'potass' oraz średnią wartością 'shelf'"
   ]
  },
  {
   "cell_type": "markdown",
   "id": "345e5765",
   "metadata": {},
   "source": [
    "### Wnioski\n",
    "\n",
    "Wyniki bardzo różnią się z każdym uruchomieniem algorytmu. Zauważyłem również, że k-means bardzo szybko trafia z centroidem do miejsca, z którego brak jest widocznej poprawy, co jest jednoznaczne z tym, że ilość iteracji jest dosyć mała."
   ]
  },
  {
   "cell_type": "code",
   "execution_count": null,
   "id": "8a68a54c",
   "metadata": {},
   "outputs": [],
   "source": []
  }
 ],
 "metadata": {
  "kernelspec": {
   "display_name": "Python 3 (ipykernel)",
   "language": "python",
   "name": "python3"
  },
  "language_info": {
   "codemirror_mode": {
    "name": "ipython",
    "version": 3
   },
   "file_extension": ".py",
   "mimetype": "text/x-python",
   "name": "python",
   "nbconvert_exporter": "python",
   "pygments_lexer": "ipython3",
   "version": "3.8.5"
  }
 },
 "nbformat": 4,
 "nbformat_minor": 5
}
