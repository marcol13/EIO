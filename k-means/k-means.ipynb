{
 "cells": [
  {
   "cell_type": "markdown",
   "id": "42255847",
   "metadata": {},
   "source": [
    "### Homework\n",
    "\n",
    "- Write your own implementation of k-means algorithm with random centroid initialization and 2 stopping conditions: max iterations and centroid convergence (if all attributes of all centroids changes not more than some epsilon the algorithm should stop).\n",
    "- Use your implementation to cluster data containing data about cereal products with their dietary characteristics (cereals.csv, 16 attributes).\n",
    "- It contains some nominal attributes (name, mfr, type). You can omit the first two of them. Type attribute is binary, so you can replace it with values 0 and 1.\n",
    "- Perform the clustering of the cereals into 3 groups using k-means algorithm.\n",
    "- Remember to preprocess the given input: normalization/standarization, attribute selection.\n",
    "- Try to describe the obtained groups based on the obtained centroids, what do all cereals within this group have in common?\n",
    "- Write a report containing information about used preprocessing methods, number of cereals within each cluster and your conclusions about the clustering results."
   ]
  },
  {
   "cell_type": "markdown",
   "id": "bcc50148",
   "metadata": {},
   "source": [
    "## Marcin Krueger L11 145244"
   ]
  },
  {
   "cell_type": "code",
   "execution_count": 8,
   "id": "6706bc93",
   "metadata": {},
   "outputs": [],
   "source": [
    "import pandas as pd\n",
    "import numpy as np\n",
    "from sklearn.neighbors import KNeighborsClassifier\n",
    "from sklearn.model_selection import train_test_split\n",
    "from sklearn.metrics import accuracy_score\n",
    "from sklearn.preprocessing import MinMaxScaler\n",
    "from sklearn.feature_selection import SelectKBest, mutual_info_classif"
   ]
  },
  {
   "cell_type": "code",
   "execution_count": 13,
   "id": "edad8738",
   "metadata": {},
   "outputs": [],
   "source": [
    "def load_data(path):\n",
    "    df = pd.read_csv(path)\n",
    "    df = df.drop(\"name\", axis=1)\n",
    "    df = df.drop(\"mfr\", axis=1)\n",
    "    df[\"type\"] = np.where(df[\"type\"] == \"C\", 1, 0) \n",
    "    return df\n",
    "\n",
    "df = load_data(\"assets/cereal.csv\")"
   ]
  },
  {
   "cell_type": "code",
   "execution_count": 14,
   "id": "53f3826a",
   "metadata": {},
   "outputs": [],
   "source": [
    "def normalize_data(df):\n",
    "    pass"
   ]
  },
  {
   "cell_type": "code",
   "execution_count": 15,
   "id": "9c4a7ad1",
   "metadata": {},
   "outputs": [],
   "source": [
    "def attribute_selection(df):\n",
    "    pass"
   ]
  },
  {
   "cell_type": "code",
   "execution_count": 26,
   "id": "9ae5f633",
   "metadata": {},
   "outputs": [
    {
     "name": "stdout",
     "output_type": "stream",
     "text": [
      "[[9.83600258 9.75539909]\n",
      " [4.27869138 6.56920435]\n",
      " [2.14096449 0.65543792]]\n"
     ]
    }
   ],
   "source": [
    "def kmeans(data, k, max_iter, eps):\n",
    "    points = np.random.uniform(np.amin(data), np.amax(data), size=(k, 2))\n",
    "    for _ in range(max_iter):\n",
    "        pass\n",
    "    print(points)\n",
    "    \n",
    "kmeans([[2,4],[3,6],[0,10]], 3, 10, 2)    "
   ]
  },
  {
   "cell_type": "code",
   "execution_count": null,
   "id": "e9be1d4a",
   "metadata": {},
   "outputs": [],
   "source": []
  }
 ],
 "metadata": {
  "kernelspec": {
   "display_name": "Python 3 (ipykernel)",
   "language": "python",
   "name": "python3"
  },
  "language_info": {
   "codemirror_mode": {
    "name": "ipython",
    "version": 3
   },
   "file_extension": ".py",
   "mimetype": "text/x-python",
   "name": "python",
   "nbconvert_exporter": "python",
   "pygments_lexer": "ipython3",
   "version": "3.10.6"
  }
 },
 "nbformat": 4,
 "nbformat_minor": 5
}
